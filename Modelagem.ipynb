{
 "cells": [
  {
   "cell_type": "markdown",
   "metadata": {},
   "source": [
    "## Análise de descritiva de dados\n",
    "\n",
    "O objetivo desta atividade é aprofundar os conhecimentos de Estatísticas Descritiva e a biblioteca Pandas e Numpy.\n",
    "\n",
    "### Exemplo: Estudo da densidade demográfica, segundo Censo 2007\n",
    "\n",
    "Vamos utilizar o Pandas para analisar um conjunto de dados com valores população, área e densidade demográfica, segundo o IBGE.\n",
    "\n",
    "Vocês deverão importar os dados, que estão em formato CSV e realizar a análise das principais medidas de estatística descritiva: média, mediana e desvio padrão. Calcule também os máximos e mínimos de cada variável.\n",
    "\n",
    "Façam também os gráficos que ajudarão a realizar a análise das informações (histogramas de distribuição das colunas e boxplot individualmente para cada variável). \n",
    "\n",
    "Calcule o Z-score para as seguintes variáveis: \"Superfície\", \"População\" e \"Densidade\" e faça os gráficos dos histogramas (sns.displot...)\n",
    "\n",
    "A partir dos dados que obtiveram, responda as seguintes perguntas:\n",
    "\n",
    "(1) Os dados estão bem distribuídos em relação às medidas de centralidade?\n",
    "\n",
    "(2) Em relação às médias e desvios das respectivas variáveis, os valores estão na mesma ordem de grandeza? Em caso afirmativo, o que essa informação diz a respeito dos dados apresentados?\n",
    "\n",
    "(3) Considerando o histograma das variáveis, os dados estão bem distribuídos? E a distribuição do z-score?\n",
    "\n",
    "(4) Explique, com suas palavras como um boxplot é contruído (esse entendimento ajudará a responder o restante da questão). Em relação aos gráficos boxplots, todos os dados estavam dentro dos limites do boxplot? O que significam os pontos acima (ou abaixo) do boxplot?\n",
    "\n",
    "(5) Pensando na fórmula da densidade populacional (densidade=Populacao/Superficie), você seria capaz de afirmar que existe uma relação entre as variáveis densidade e população? E densidade e superfície? Se preferir utilize as informações da tabela para justificar as suas respostas.\n",
    "\n",
    "(6) Explique com suas palavras o conceito de covariância e correlação. É possível calcular essas medidas a partir desses dados? Em caso afirmativo tente calcular e explique, seus resultados.\n",
    "\n",
    "A entrega deste Caderno deverá ser feita até o dia 12/nov (às 23h59) e vocês poderão consultar todo o material de aulas passadas, internet e discutir entre os pares. Não serão aceitos trabalhos após esta data."
   ]
  },
  {
   "cell_type": "code",
   "execution_count": 1,
   "metadata": {},
   "outputs": [
    {
     "data": {
      "text/html": [
       "<div>\n",
       "<style scoped>\n",
       "    .dataframe tbody tr th:only-of-type {\n",
       "        vertical-align: middle;\n",
       "    }\n",
       "\n",
       "    .dataframe tbody tr th {\n",
       "        vertical-align: top;\n",
       "    }\n",
       "\n",
       "    .dataframe thead th {\n",
       "        text-align: right;\n",
       "    }\n",
       "</style>\n",
       "<table border=\"1\" class=\"dataframe\">\n",
       "  <thead>\n",
       "    <tr style=\"text-align: right;\">\n",
       "      <th></th>\n",
       "      <th>Regiao</th>\n",
       "      <th>Estado</th>\n",
       "      <th>Superficie</th>\n",
       "      <th>Populacao</th>\n",
       "      <th>Densidade</th>\n",
       "    </tr>\n",
       "  </thead>\n",
       "  <tbody>\n",
       "    <tr>\n",
       "      <th>0</th>\n",
       "      <td>Norte</td>\n",
       "      <td>RO</td>\n",
       "      <td>237576.167</td>\n",
       "      <td>1453756.0</td>\n",
       "      <td>6.119115</td>\n",
       "    </tr>\n",
       "    <tr>\n",
       "      <th>1</th>\n",
       "      <td>Norte</td>\n",
       "      <td>AC</td>\n",
       "      <td>164165.250</td>\n",
       "      <td>653385.0</td>\n",
       "      <td>3.980044</td>\n",
       "    </tr>\n",
       "    <tr>\n",
       "      <th>2</th>\n",
       "      <td>Norte</td>\n",
       "      <td>AM</td>\n",
       "      <td>1559161.810</td>\n",
       "      <td>3221940.0</td>\n",
       "      <td>2.066456</td>\n",
       "    </tr>\n",
       "    <tr>\n",
       "      <th>3</th>\n",
       "      <td>Norte</td>\n",
       "      <td>RR</td>\n",
       "      <td>224298.980</td>\n",
       "      <td>395725.0</td>\n",
       "      <td>1.764275</td>\n",
       "    </tr>\n",
       "    <tr>\n",
       "      <th>4</th>\n",
       "      <td>Norte</td>\n",
       "      <td>PA</td>\n",
       "      <td>1247689.515</td>\n",
       "      <td>7065573.0</td>\n",
       "      <td>5.662926</td>\n",
       "    </tr>\n",
       "  </tbody>\n",
       "</table>\n",
       "</div>"
      ],
      "text/plain": [
       "  Regiao Estado   Superficie  Populacao  Densidade\n",
       "0  Norte     RO   237576.167  1453756.0   6.119115\n",
       "1  Norte     AC   164165.250   653385.0   3.980044\n",
       "2  Norte     AM  1559161.810  3221940.0   2.066456\n",
       "3  Norte     RR   224298.980   395725.0   1.764275\n",
       "4  Norte     PA  1247689.515  7065573.0   5.662926"
      ]
     },
     "execution_count": 1,
     "metadata": {},
     "output_type": "execute_result"
    }
   ],
   "source": [
    "import pandas as pd\n",
    "dados = pd.read_csv('Densidade_demografica.csv')\n",
    "dados.head()"
   ]
  },
  {
   "cell_type": "code",
   "execution_count": 2,
   "metadata": {},
   "outputs": [
    {
     "data": {
      "text/html": [
       "<div>\n",
       "<style scoped>\n",
       "    .dataframe tbody tr th:only-of-type {\n",
       "        vertical-align: middle;\n",
       "    }\n",
       "\n",
       "    .dataframe tbody tr th {\n",
       "        vertical-align: top;\n",
       "    }\n",
       "\n",
       "    .dataframe thead th {\n",
       "        text-align: right;\n",
       "    }\n",
       "</style>\n",
       "<table border=\"1\" class=\"dataframe\">\n",
       "  <thead>\n",
       "    <tr style=\"text-align: right;\">\n",
       "      <th></th>\n",
       "      <th>Superficie</th>\n",
       "      <th>Populacao</th>\n",
       "      <th>Densidade</th>\n",
       "    </tr>\n",
       "  </thead>\n",
       "  <tbody>\n",
       "    <tr>\n",
       "      <th>count</th>\n",
       "      <td>2.700000e+01</td>\n",
       "      <td>2.700000e+01</td>\n",
       "      <td>27.000000</td>\n",
       "    </tr>\n",
       "    <tr>\n",
       "      <th>mean</th>\n",
       "      <td>3.153658e+05</td>\n",
       "      <td>6.814337e+06</td>\n",
       "      <td>65.313932</td>\n",
       "    </tr>\n",
       "    <tr>\n",
       "      <th>std</th>\n",
       "      <td>3.753011e+05</td>\n",
       "      <td>8.181845e+06</td>\n",
       "      <td>101.483568</td>\n",
       "    </tr>\n",
       "    <tr>\n",
       "      <th>min</th>\n",
       "      <td>5.801937e+03</td>\n",
       "      <td>3.957250e+05</td>\n",
       "      <td>1.764275</td>\n",
       "    </tr>\n",
       "    <tr>\n",
       "      <th>25%</th>\n",
       "      <td>7.589301e+04</td>\n",
       "      <td>2.360858e+06</td>\n",
       "      <td>5.891021</td>\n",
       "    </tr>\n",
       "    <tr>\n",
       "      <th>50%</th>\n",
       "      <td>2.242990e+05</td>\n",
       "      <td>3.351669e+06</td>\n",
       "      <td>32.860364</td>\n",
       "    </tr>\n",
       "    <tr>\n",
       "      <th>75%</th>\n",
       "      <td>3.360350e+05</td>\n",
       "      <td>8.335944e+06</td>\n",
       "      <td>68.628997</td>\n",
       "    </tr>\n",
       "    <tr>\n",
       "      <th>max</th>\n",
       "      <td>1.559162e+06</td>\n",
       "      <td>3.982769e+07</td>\n",
       "      <td>423.290187</td>\n",
       "    </tr>\n",
       "  </tbody>\n",
       "</table>\n",
       "</div>"
      ],
      "text/plain": [
       "         Superficie     Populacao   Densidade\n",
       "count  2.700000e+01  2.700000e+01   27.000000\n",
       "mean   3.153658e+05  6.814337e+06   65.313932\n",
       "std    3.753011e+05  8.181845e+06  101.483568\n",
       "min    5.801937e+03  3.957250e+05    1.764275\n",
       "25%    7.589301e+04  2.360858e+06    5.891021\n",
       "50%    2.242990e+05  3.351669e+06   32.860364\n",
       "75%    3.360350e+05  8.335944e+06   68.628997\n",
       "max    1.559162e+06  3.982769e+07  423.290187"
      ]
     },
     "execution_count": 2,
     "metadata": {},
     "output_type": "execute_result"
    }
   ],
   "source": [
    "dados.describe()"
   ]
  },
  {
   "cell_type": "code",
   "execution_count": 3,
   "metadata": {
    "scrolled": true
   },
   "outputs": [
    {
     "data": {
      "text/plain": [
       "array([[<AxesSubplot:title={'center':'Superficie'}>,\n",
       "        <AxesSubplot:title={'center':'Populacao'}>],\n",
       "       [<AxesSubplot:title={'center':'Densidade'}>, <AxesSubplot:>]],\n",
       "      dtype=object)"
      ]
     },
     "execution_count": 3,
     "metadata": {},
     "output_type": "execute_result"
    },
    {
     "data": {
      "image/png": "[encoded data removed]",
      "text/plain": [
       "<Figure size 432x288 with 4 Axes>"
      ]
     },
     "metadata": {
      "needs_background": "light"
     },
     "output_type": "display_data"
    }
   ],
   "source": [
    "dados.hist()"
   ]
  },
  {
   "cell_type": "code",
   "execution_count": 15,
   "metadata": {},
   "outputs": [
    {
     "data": {
      "text/plain": [
       "<AxesSubplot:>"
      ]
     },
     "execution_count": 15,
     "metadata": {},
     "output_type": "execute_result"
    },
    {
     "data": {
      "image/png": "[encoded data removed]",
      "text/plain": [
       "<Figure size 432x288 with 1 Axes>"
      ]
     },
     "metadata": {
      "needs_background": "light"
     },
     "output_type": "display_data"
    }
   ],
   "source": [
    "dados.boxplot('Superficie')"
   ]
  },
  {
   "cell_type": "code",
   "execution_count": 16,
   "metadata": {},
   "outputs": [
    {
     "data": {
      "text/plain": [
       "<AxesSubplot:>"
      ]
     },
     "execution_count": 16,
     "metadata": {},
     "output_type": "execute_result"
    },
    {
     "data": {
      "image/png": "[encoded data removed]",
      "text/plain": [
       "<Figure size 432x288 with 1 Axes>"
      ]
     },
     "metadata": {
      "needs_background": "light"
     },
     "output_type": "display_data"
    }
   ],
   "source": [
    "dados.boxplot('Populacao')"
   ]
  },
  {
   "cell_type": "code",
   "execution_count": 17,
   "metadata": {},
   "outputs": [
    {
     "data": {
      "text/plain": [
       "<AxesSubplot:>"
      ]
     },
     "execution_count": 17,
     "metadata": {},
     "output_type": "execute_result"
    },
    {
     "data": {
      "image/png": "[encoded data removed]",
      "text/plain": [
       "<Figure size 432x288 with 1 Axes>"
      ]
     },
     "metadata": {
      "needs_background": "light"
     },
     "output_type": "display_data"
    }
   ],
   "source": [
    "dados.boxplot('Densidade')"
   ]
  },
  {
   "cell_type": "code",
   "execution_count": 5,
   "metadata": {},
   "outputs": [],
   "source": [
    "import numpy as np\n",
    "import seaborn as sns"
   ]
  },
  {
   "cell_type": "code",
   "execution_count": 9,
   "metadata": {},
   "outputs": [
    {
     "data": {
      "text/plain": [
       "[-0.21122100956524825,\n",
       " -0.41055255463212403,\n",
       " 3.377260362454537,\n",
       " -0.24727235324825703,\n",
       " 2.5315243827789833,\n",
       " -0.4685256901898132,\n",
       " -0.10248811781670707,\n",
       " 0.04512122207998823,\n",
       " -0.17333458954385722,\n",
       " -0.4522040672623505,\n",
       " -0.712949635493912,\n",
       " -0.7030577254492352,\n",
       " -0.5893639242474709,\n",
       " -0.7809108510523513,\n",
       " -0.7968151238491384,\n",
       " 0.6769934471555659,\n",
       " 0.7362833845012517,\n",
       " -0.7311943724379363,\n",
       " -0.7376607280887272,\n",
       " -0.18234868332028026,\n",
       " -0.31511138099193287,\n",
       " -0.5974159247468706,\n",
       " -0.09128032103500162,\n",
       " 0.11338801307144218,\n",
       " 1.5965660135943258,\n",
       " 0.06712427428205568,\n",
       " -0.8405540469469424]"
      ]
     },
     "execution_count": 9,
     "metadata": {},
     "output_type": "execute_result"
    }
   ],
   "source": [
    "x = dados['Superficie'] \n",
    "\n",
    "def zscore(x):\n",
    "  media = np.mean(x)\n",
    "  desvio = np.std(x)\n",
    "  z = []\n",
    "  for i in x:\n",
    "    z.append((i-media)/desvio)\n",
    "  return z\n",
    "z = zscore(x)\n",
    "z"
   ]
  },
  {
   "cell_type": "code",
   "execution_count": 12,
   "metadata": {},
   "outputs": [
    {
     "name": "stderr",
     "output_type": "stream",
     "text": [
      "/opt/anaconda3/lib/python3.9/site-packages/seaborn/distributions.py:2619: FutureWarning: `distplot` is a deprecated function and will be removed in a future version. Please adapt your code to use either `displot` (a figure-level function with similar flexibility) or `histplot` (an axes-level function for histograms).\n",
      "  warnings.warn(msg, FutureWarning)\n"
     ]
    },
    {
     "data": {
      "text/plain": [
       "<AxesSubplot:xlabel='Superficie', ylabel='Density'>"
      ]
     },
     "execution_count": 12,
     "metadata": {},
     "output_type": "execute_result"
    },
    {
     "data": {
      "image/png": "[encoded data removed]",
      "text/plain": [
       "<Figure size 432x288 with 1 Axes>"
      ]
     },
     "metadata": {
      "needs_background": "light"
     },
     "output_type": "display_data"
    }
   ],
   "source": [
    "sns.distplot(x)"
   ]
  },
  {
   "cell_type": "code",
   "execution_count": 10,
   "metadata": {},
   "outputs": [
    {
     "data": {
      "text/plain": [
       "[-0.6676608064915254,\n",
       " -0.7673470724107273,\n",
       " -0.44743336144656715,\n",
       " -0.7994386440403111,\n",
       " 0.03129140660952182,\n",
       " -0.7755765938880739,\n",
       " -0.6938323886344765,\n",
       " -0.08660495173088076,\n",
       " -0.47103622289834185,\n",
       " 0.17074725791549655,\n",
       " -0.47336468650004593,\n",
       " -0.39518996176857946,\n",
       " 0.20828515510674467,\n",
       " -0.4704388807515768,\n",
       " -0.607170572876141,\n",
       " 0.9050222451718835,\n",
       " 1.5517937072813113,\n",
       " -0.43127560511677493,\n",
       " 1.0718919410419592,\n",
       " 4.111815447757948,\n",
       " 0.4322093708477273,\n",
       " -0.1180548413879596,\n",
       " 0.46929838957839554,\n",
       " -0.5665190484273909,\n",
       " -0.49318035390330417,\n",
       " -0.14538760385499142,\n",
       " -0.5428433251833189]"
      ]
     },
     "execution_count": 10,
     "metadata": {},
     "output_type": "execute_result"
    }
   ],
   "source": [
    "y = dados['Populacao'] \n",
    "\n",
    "def zscore(y):\n",
    "  media = np.mean(y)\n",
    "  desvio = np.std(y)\n",
    "  z = []\n",
    "  for i in y:\n",
    "    z.append((i-media)/desvio)\n",
    "  return z\n",
    "z = zscore(y)\n",
    "z"
   ]
  },
  {
   "cell_type": "code",
   "execution_count": 13,
   "metadata": {},
   "outputs": [
    {
     "name": "stderr",
     "output_type": "stream",
     "text": [
      "/opt/anaconda3/lib/python3.9/site-packages/seaborn/distributions.py:2619: FutureWarning: `distplot` is a deprecated function and will be removed in a future version. Please adapt your code to use either `displot` (a figure-level function with similar flexibility) or `histplot` (an axes-level function for histograms).\n",
      "  warnings.warn(msg, FutureWarning)\n"
     ]
    },
    {
     "data": {
      "text/plain": [
       "<AxesSubplot:xlabel='Populacao', ylabel='Density'>"
      ]
     },
     "execution_count": 13,
     "metadata": {},
     "output_type": "execute_result"
    },
    {
     "data": {
      "image/png": "[encoded data removed]",
      "text/plain": [
       "<Figure size 432x288 with 1 Axes>"
      ]
     },
     "metadata": {
      "needs_background": "light"
     },
     "output_type": "display_data"
    }
   ],
   "source": [
    "sns.distplot(y)"
   ]
  },
  {
   "cell_type": "code",
   "execution_count": 11,
   "metadata": {},
   "outputs": [
    {
     "data": {
      "text/plain": [
       "[-0.594405966837922,\n",
       " -0.6158854920311803,\n",
       " -0.6351008256165418,\n",
       " -0.6381351907152871,\n",
       " -0.5989868060031722,\n",
       " -0.6145564203993155,\n",
       " -0.6108693270726877,\n",
       " -0.4707695453768336,\n",
       " -0.5347906533650231,\n",
       " -0.1035782278360173,\n",
       " -0.08266233587283628,\n",
       " -0.007990315558904802,\n",
       " 0.2109716062856001,\n",
       " 0.44249186142724806,\n",
       " 0.23298845949985145,\n",
       " -0.4054648388529226,\n",
       " -0.3258831735084321,\n",
       " 0.07456689392627874,\n",
       " 2.8878272776179825,\n",
       " 0.9554114211757271,\n",
       " -0.13771594727020078,\n",
       " -0.03801365168037784,\n",
       " -0.27869844214587275,\n",
       " -0.5921418165307996,\n",
       " -0.6241196410120361,\n",
       " -0.4891148308710962,\n",
       " 3.594625928624772]"
      ]
     },
     "execution_count": 11,
     "metadata": {},
     "output_type": "execute_result"
    }
   ],
   "source": [
    "w = dados['Densidade'] \n",
    "\n",
    "def zscore(w):\n",
    "  media = np.mean(w)\n",
    "  desvio = np.std(w)\n",
    "  z = []\n",
    "  for i in w:\n",
    "    z.append((i-media)/desvio)\n",
    "  return z\n",
    "z = zscore(w)\n",
    "z"
   ]
  },
  {
   "cell_type": "code",
   "execution_count": 14,
   "metadata": {},
   "outputs": [
    {
     "name": "stderr",
     "output_type": "stream",
     "text": [
      "/opt/anaconda3/lib/python3.9/site-packages/seaborn/distributions.py:2619: FutureWarning: `distplot` is a deprecated function and will be removed in a future version. Please adapt your code to use either `displot` (a figure-level function with similar flexibility) or `histplot` (an axes-level function for histograms).\n",
      "  warnings.warn(msg, FutureWarning)\n"
     ]
    },
    {
     "data": {
      "text/plain": [
       "<AxesSubplot:xlabel='Densidade', ylabel='Density'>"
      ]
     },
     "execution_count": 14,
     "metadata": {},
     "output_type": "execute_result"
    },
    {
     "data": {
      "image/png": "[encoded data removed]",
      "text/plain": [
       "<Figure size 432x288 with 1 Axes>"
      ]
     },
     "metadata": {
      "needs_background": "light"
     },
     "output_type": "display_data"
    }
   ],
   "source": [
    "sns.distplot(w)"
   ]
  }
 ],
 "metadata": {
  "kernelspec": {
   "display_name": "Python 3 (ipykernel)",
   "language": "python",
   "name": "python3"
  },
  "language_info": {
   "codemirror_mode": {
    "name": "ipython",
    "version": 3
   },
   "file_extension": ".py",
   "mimetype": "text/x-python",
   "name": "python",
   "nbconvert_exporter": "python",
   "pygments_lexer": "ipython3",
   "version": "3.9.7"
  }
 },
 "nbformat": 4,
 "nbformat_minor": 2
}
